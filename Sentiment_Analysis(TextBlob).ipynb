{
 "cells": [
  {
   "cell_type": "code",
   "execution_count": 1,
   "metadata": {},
   "outputs": [
    {
     "name": "stdout",
     "output_type": "stream",
     "text": [
      "Requirement already satisfied: textblob in c:\\users\\lingx\\anaconda3\\lib\\site-packages (0.15.3)\n",
      "Requirement already satisfied: nltk>=3.1 in c:\\users\\lingx\\anaconda3\\lib\\site-packages (from textblob) (3.4.5)\n",
      "Requirement already satisfied: six in c:\\users\\lingx\\anaconda3\\lib\\site-packages (from nltk>=3.1->textblob) (1.14.0)\n",
      "Note: you may need to restart the kernel to use updated packages.\n"
     ]
    }
   ],
   "source": [
    "pip install textblob"
   ]
  },
  {
   "cell_type": "code",
   "execution_count": 51,
   "metadata": {},
   "outputs": [],
   "source": [
    "import nltk\n",
    "import csv\n",
    "from textblob import TextBlob\n",
    "with open('data_cleaned.csv', 'r') as fp:\n",
    "     content = fp.read()\n",
    "blob = TextBlob(content)\n",
    "import pandas as pd\n",
    "import sys"
   ]
  },
  {
   "cell_type": "code",
   "execution_count": 52,
   "metadata": {},
   "outputs": [
    {
     "data": {
      "text/html": [
       "<div>\n",
       "<style scoped>\n",
       "    .dataframe tbody tr th:only-of-type {\n",
       "        vertical-align: middle;\n",
       "    }\n",
       "\n",
       "    .dataframe tbody tr th {\n",
       "        vertical-align: top;\n",
       "    }\n",
       "\n",
       "    .dataframe thead th {\n",
       "        text-align: right;\n",
       "    }\n",
       "</style>\n",
       "<table border=\"1\" class=\"dataframe\">\n",
       "  <thead>\n",
       "    <tr style=\"text-align: right;\">\n",
       "      <th></th>\n",
       "      <th>body</th>\n",
       "    </tr>\n",
       "  </thead>\n",
       "  <tbody>\n",
       "    <tr>\n",
       "      <th>0</th>\n",
       "      <td>Govt outlines $200m support for Auckland Counc...</td>\n",
       "    </tr>\n",
       "    <tr>\n",
       "      <th>1</th>\n",
       "      <td>Maxwell doesn't deserve 'special treatment' de...</td>\n",
       "    </tr>\n",
       "    <tr>\n",
       "      <th>2</th>\n",
       "      <td>.@TheAMShowNZ's #poll: Do you eat 5 or more se...</td>\n",
       "    </tr>\n",
       "    <tr>\n",
       "      <th>3</th>\n",
       "      <td>'I felt so 'normal' again': White Island survi...</td>\n",
       "    </tr>\n",
       "    <tr>\n",
       "      <th>4</th>\n",
       "      <td>#BREAKING: Todd Muller resigns as National Par...</td>\n",
       "    </tr>\n",
       "  </tbody>\n",
       "</table>\n",
       "</div>"
      ],
      "text/plain": [
       "                                                body\n",
       "0  Govt outlines $200m support for Auckland Counc...\n",
       "1  Maxwell doesn't deserve 'special treatment' de...\n",
       "2  .@TheAMShowNZ's #poll: Do you eat 5 or more se...\n",
       "3  'I felt so 'normal' again': White Island survi...\n",
       "4  #BREAKING: Todd Muller resigns as National Par..."
      ]
     },
     "execution_count": 52,
     "metadata": {},
     "output_type": "execute_result"
    }
   ],
   "source": [
    "df = pd.read_csv('data_cleaned.csv')\n",
    "df = df.drop(columns=['DOCID','name','date_created','handle'],axis=1)\n",
    "df = pd.DataFrame(df)\n",
    "df.head(5)"
   ]
  },
  {
   "cell_type": "code",
   "execution_count": 53,
   "metadata": {},
   "outputs": [
    {
     "data": {
      "text/html": [
       "<div>\n",
       "<style scoped>\n",
       "    .dataframe tbody tr th:only-of-type {\n",
       "        vertical-align: middle;\n",
       "    }\n",
       "\n",
       "    .dataframe tbody tr th {\n",
       "        vertical-align: top;\n",
       "    }\n",
       "\n",
       "    .dataframe thead th {\n",
       "        text-align: right;\n",
       "    }\n",
       "</style>\n",
       "<table border=\"1\" class=\"dataframe\">\n",
       "  <thead>\n",
       "    <tr style=\"text-align: right;\">\n",
       "      <th></th>\n",
       "      <th>body</th>\n",
       "      <th>polarity</th>\n",
       "      <th>subjectivity</th>\n",
       "    </tr>\n",
       "  </thead>\n",
       "  <tbody>\n",
       "    <tr>\n",
       "      <th>0</th>\n",
       "      <td>Govt outlines $200m support for Auckland Counc...</td>\n",
       "      <td>0.000000</td>\n",
       "      <td>0.000000</td>\n",
       "    </tr>\n",
       "    <tr>\n",
       "      <th>1</th>\n",
       "      <td>Maxwell doesn't deserve 'special treatment' de...</td>\n",
       "      <td>0.357143</td>\n",
       "      <td>0.571429</td>\n",
       "    </tr>\n",
       "    <tr>\n",
       "      <th>2</th>\n",
       "      <td>.@TheAMShowNZ's #poll: Do you eat 5 or more se...</td>\n",
       "      <td>0.500000</td>\n",
       "      <td>0.500000</td>\n",
       "    </tr>\n",
       "    <tr>\n",
       "      <th>3</th>\n",
       "      <td>'I felt so 'normal' again': White Island survi...</td>\n",
       "      <td>0.075000</td>\n",
       "      <td>0.325000</td>\n",
       "    </tr>\n",
       "    <tr>\n",
       "      <th>4</th>\n",
       "      <td>#BREAKING: Todd Muller resigns as National Par...</td>\n",
       "      <td>0.000000</td>\n",
       "      <td>0.000000</td>\n",
       "    </tr>\n",
       "  </tbody>\n",
       "</table>\n",
       "</div>"
      ],
      "text/plain": [
       "                                                body  polarity  subjectivity\n",
       "0  Govt outlines $200m support for Auckland Counc...  0.000000      0.000000\n",
       "1  Maxwell doesn't deserve 'special treatment' de...  0.357143      0.571429\n",
       "2  .@TheAMShowNZ's #poll: Do you eat 5 or more se...  0.500000      0.500000\n",
       "3  'I felt so 'normal' again': White Island survi...  0.075000      0.325000\n",
       "4  #BREAKING: Todd Muller resigns as National Par...  0.000000      0.000000"
      ]
     },
     "execution_count": 53,
     "metadata": {},
     "output_type": "execute_result"
    }
   ],
   "source": [
    "def sentiment_calc(text):\n",
    "    try:\n",
    "        return TextBlob(text).polarity\n",
    "    except:\n",
    "        return None\n",
    "\n",
    "def sentiment(text):\n",
    "    try:\n",
    "        return TextBlob(text).subjectivity\n",
    "    except:\n",
    "        return None\n",
    "    \n",
    "df['polarity'] = df['body'].apply(sentiment_calc)\n",
    "df['subjectivity'] = df['body'].apply(sentiment)\n",
    "\n",
    "df.head(5)"
   ]
  },
  {
   "cell_type": "code",
   "execution_count": 54,
   "metadata": {},
   "outputs": [],
   "source": [
    "if sys.version[0] == '3':\n",
    "    from importlib import reload\n",
    "    sntTweets = csv.writer(open(\"Deloitte Team 2 Twitter data 2 July MvN cleaned.csv\", \"w\", newline=''))\n",
    "\n",
    "if sys.version[0] == '2':\n",
    "    reload(sys)\n",
    "    sys.setdefaultencoding(\"utf-8\")\n",
    "    sntTweets = csv.writer(open(\"Deloitte Team 2 Twitter data 2 July MvN cleaned.csv\", \"w\"))\n",
    "\n",
    "alltweets = csv.reader(open(\"Deloitte Team 2 Twitter data 2 July MvN cleaned.csv\", 'r'))\n",
    "\n",
    "for row in alltweets:\n",
    "    blob = TextBlob(row[2])\n",
    "    print (blob.sentiment.polarity)\n",
    "    if blob.sentiment.polarity > 0:\n",
    "        sntTweets.writerow([row[0], row[1], row[2], row[3], blob.sentiment.polarity, \"positive\"])\n",
    "    elif blob.sentiment.polarity < 0:\n",
    "        sntTweets.writerow([row[0], row[1], row[2], row[3], blob.sentiment.polarity, \"negative\"])\n",
    "    elif blob.sentiment.polarity == 0.0:\n",
    "        sntTweets.writerow([row[0], row[1], row[2], row[3], blob.sentiment.polarity, \"neutral\"])"
   ]
  },
  {
   "cell_type": "code",
   "execution_count": 55,
   "metadata": {},
   "outputs": [
    {
     "data": {
      "text/html": [
       "<div>\n",
       "<style scoped>\n",
       "    .dataframe tbody tr th:only-of-type {\n",
       "        vertical-align: middle;\n",
       "    }\n",
       "\n",
       "    .dataframe tbody tr th {\n",
       "        vertical-align: top;\n",
       "    }\n",
       "\n",
       "    .dataframe thead th {\n",
       "        text-align: right;\n",
       "    }\n",
       "</style>\n",
       "<table border=\"1\" class=\"dataframe\">\n",
       "  <thead>\n",
       "    <tr style=\"text-align: right;\">\n",
       "      <th></th>\n",
       "      <th>body</th>\n",
       "      <th>polarity</th>\n",
       "      <th>subjectivity</th>\n",
       "      <th>sentiment</th>\n",
       "    </tr>\n",
       "  </thead>\n",
       "  <tbody>\n",
       "    <tr>\n",
       "      <th>0</th>\n",
       "      <td>Govt outlines $200m support for Auckland Counc...</td>\n",
       "      <td>0.000000</td>\n",
       "      <td>0.000000</td>\n",
       "      <td>neutral</td>\n",
       "    </tr>\n",
       "    <tr>\n",
       "      <th>1</th>\n",
       "      <td>Maxwell doesn't deserve 'special treatment' de...</td>\n",
       "      <td>0.357143</td>\n",
       "      <td>0.571429</td>\n",
       "      <td>positive</td>\n",
       "    </tr>\n",
       "    <tr>\n",
       "      <th>2</th>\n",
       "      <td>.@TheAMShowNZ's #poll: Do you eat 5 or more se...</td>\n",
       "      <td>0.500000</td>\n",
       "      <td>0.500000</td>\n",
       "      <td>positive</td>\n",
       "    </tr>\n",
       "    <tr>\n",
       "      <th>3</th>\n",
       "      <td>'I felt so 'normal' again': White Island survi...</td>\n",
       "      <td>0.075000</td>\n",
       "      <td>0.325000</td>\n",
       "      <td>neutral</td>\n",
       "    </tr>\n",
       "    <tr>\n",
       "      <th>4</th>\n",
       "      <td>#BREAKING: Todd Muller resigns as National Par...</td>\n",
       "      <td>0.000000</td>\n",
       "      <td>0.000000</td>\n",
       "      <td>neutral</td>\n",
       "    </tr>\n",
       "    <tr>\n",
       "      <th>5</th>\n",
       "      <td>Live updates: Todd Muller resigns as National ...</td>\n",
       "      <td>0.136364</td>\n",
       "      <td>0.500000</td>\n",
       "      <td>positive</td>\n",
       "    </tr>\n",
       "    <tr>\n",
       "      <th>6</th>\n",
       "      <td>'Open for business': Quarantine-free travel bu...</td>\n",
       "      <td>-0.050000</td>\n",
       "      <td>0.450000</td>\n",
       "      <td>neutral</td>\n",
       "    </tr>\n",
       "    <tr>\n",
       "      <th>7</th>\n",
       "      <td>'Compelling' evidence COVID-19 cases increase ...</td>\n",
       "      <td>0.300000</td>\n",
       "      <td>0.600000</td>\n",
       "      <td>positive</td>\n",
       "    </tr>\n",
       "    <tr>\n",
       "      <th>8</th>\n",
       "      <td>'I am shocked': The AM Show hosts react to Tod...</td>\n",
       "      <td>-0.700000</td>\n",
       "      <td>0.800000</td>\n",
       "      <td>negative</td>\n",
       "    </tr>\n",
       "    <tr>\n",
       "      <th>9</th>\n",
       "      <td>Poll: Who should be the next National Party le...</td>\n",
       "      <td>0.000000</td>\n",
       "      <td>0.000000</td>\n",
       "      <td>neutral</td>\n",
       "    </tr>\n",
       "  </tbody>\n",
       "</table>\n",
       "</div>"
      ],
      "text/plain": [
       "                                                body  polarity  subjectivity  \\\n",
       "0  Govt outlines $200m support for Auckland Counc...  0.000000      0.000000   \n",
       "1  Maxwell doesn't deserve 'special treatment' de...  0.357143      0.571429   \n",
       "2  .@TheAMShowNZ's #poll: Do you eat 5 or more se...  0.500000      0.500000   \n",
       "3  'I felt so 'normal' again': White Island survi...  0.075000      0.325000   \n",
       "4  #BREAKING: Todd Muller resigns as National Par...  0.000000      0.000000   \n",
       "5  Live updates: Todd Muller resigns as National ...  0.136364      0.500000   \n",
       "6  'Open for business': Quarantine-free travel bu... -0.050000      0.450000   \n",
       "7  'Compelling' evidence COVID-19 cases increase ...  0.300000      0.600000   \n",
       "8  'I am shocked': The AM Show hosts react to Tod... -0.700000      0.800000   \n",
       "9  Poll: Who should be the next National Party le...  0.000000      0.000000   \n",
       "\n",
       "  sentiment  \n",
       "0   neutral  \n",
       "1  positive  \n",
       "2  positive  \n",
       "3   neutral  \n",
       "4   neutral  \n",
       "5  positive  \n",
       "6   neutral  \n",
       "7  positive  \n",
       "8  negative  \n",
       "9   neutral  "
      ]
     },
     "execution_count": 55,
     "metadata": {},
     "output_type": "execute_result"
    }
   ],
   "source": [
    "df['sentiment'] = df.polarity.apply(lambda x: 'positive' if x > 0.1 else 'negative' if x < -0.1 else 'neutral')\n",
    "df.head(10)"
   ]
  },
  {
   "cell_type": "code",
   "execution_count": 56,
   "metadata": {},
   "outputs": [
    {
     "data": {
      "text/plain": [
       "859"
      ]
     },
     "execution_count": 56,
     "metadata": {},
     "output_type": "execute_result"
    }
   ],
   "source": [
    "df['sentiment']\n",
    "\n",
    "#positive\n",
    "search_word = 'positive'  \n",
    "# Check if each title contains the specified word and then count\n",
    "counts_positive = df['sentiment'].str.contains(search_word).sum()\n",
    "\n",
    "counts_positive"
   ]
  },
  {
   "cell_type": "code",
   "execution_count": 57,
   "metadata": {},
   "outputs": [
    {
     "data": {
      "text/plain": [
       "168"
      ]
     },
     "execution_count": 57,
     "metadata": {},
     "output_type": "execute_result"
    }
   ],
   "source": [
    "#negative\n",
    "df['sentiment']\n",
    "search_word = 'negative'  \n",
    "counts_negative = df['sentiment'].str.contains(search_word).sum()\n",
    "\n",
    "counts_negative"
   ]
  },
  {
   "cell_type": "code",
   "execution_count": 58,
   "metadata": {},
   "outputs": [
    {
     "data": {
      "text/plain": [
       "803"
      ]
     },
     "execution_count": 58,
     "metadata": {},
     "output_type": "execute_result"
    }
   ],
   "source": [
    "#neutral\n",
    "df['sentiment']\n",
    "search_word = 'neutral'  \n",
    "counts_neutral = df['sentiment'].str.contains(search_word).sum()\n",
    "\n",
    "counts_neutral "
   ]
  },
  {
   "cell_type": "code",
   "execution_count": 59,
   "metadata": {},
   "outputs": [
    {
     "data": {
      "image/png": "[encoded data removed]",
      "text/plain": [
       "<Figure size 432x288 with 1 Axes>"
      ]
     },
     "metadata": {},
     "output_type": "display_data"
    }
   ],
   "source": [
    "import matplotlib.pyplot as plt\n",
    "\n",
    "labels = 'Positive', 'Negative', 'Neutral'\n",
    "sizes = [counts_positive, counts_negative, counts_neutral]\n",
    "\n",
    "# set the separation distance. 0 means no separation\n",
    "explode = (0, 0.1, 0) \n",
    "\n",
    "plt.pie(sizes, explode=explode, labels=labels, autopct='%1.1f%%',\n",
    "        shadow=True, startangle=90)\n",
    "\n",
    "# equal aspect ratio \n",
    "plt.axis('equal') \n",
    "\n",
    "plt.show()"
   ]
  },
  {
   "cell_type": "code",
   "execution_count": null,
   "metadata": {},
   "outputs": [],
   "source": []
  }
 ],
 "metadata": {
  "kernelspec": {
   "display_name": "Python 3",
   "language": "python",
   "name": "python3"
  },
  "language_info": {
   "codemirror_mode": {
    "name": "ipython",
    "version": 3
   },
   "file_extension": ".py",
   "mimetype": "text/x-python",
   "name": "python",
   "nbconvert_exporter": "python",
   "pygments_lexer": "ipython3",
   "version": "3.7.6"
  }
 },
 "nbformat": 4,
 "nbformat_minor": 4
}
